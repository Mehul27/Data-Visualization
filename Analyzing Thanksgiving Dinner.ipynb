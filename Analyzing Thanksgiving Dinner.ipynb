{
 "cells": [
  {
   "cell_type": "code",
   "execution_count": 4,
   "metadata": {
    "collapsed": false
   },
   "outputs": [],
   "source": [
    "import pandas as pd\n",
    "data = pd.read_csv(\"thanksgiving.csv\", encoding=\"Latin-1\")"
   ]
  },
  {
   "cell_type": "code",
   "execution_count": 8,
   "metadata": {
    "collapsed": false
   },
   "outputs": [
    {
     "name": "stdout",
     "output_type": "stream",
     "text": [
      "['RespondentID' 'Do you celebrate Thanksgiving?'\n",
      " 'What is typically the main dish at your Thanksgiving dinner?'\n",
      " 'What is typically the main dish at your Thanksgiving dinner? - Other (please specify)'\n",
      " 'How is the main dish typically cooked?'\n",
      " 'How is the main dish typically cooked? - Other (please specify)'\n",
      " 'What kind of stuffing/dressing do you typically have?'\n",
      " 'What kind of stuffing/dressing do you typically have? - Other (please specify)'\n",
      " 'What type of cranberry saucedo you typically have?'\n",
      " 'What type of cranberry saucedo you typically have? - Other (please specify)'\n",
      " 'Do you typically have gravy?'\n",
      " 'Which of these side dishes aretypically served at your Thanksgiving dinner? Please select all that apply. - Brussel sprouts'\n",
      " 'Which of these side dishes aretypically served at your Thanksgiving dinner? Please select all that apply. - Carrots'\n",
      " 'Which of these side dishes aretypically served at your Thanksgiving dinner? Please select all that apply. - Cauliflower'\n",
      " 'Which of these side dishes aretypically served at your Thanksgiving dinner? Please select all that apply. - Corn'\n",
      " 'Which of these side dishes aretypically served at your Thanksgiving dinner? Please select all that apply. - Cornbread'\n",
      " 'Which of these side dishes aretypically served at your Thanksgiving dinner? Please select all that apply. - Fruit salad'\n",
      " 'Which of these side dishes aretypically served at your Thanksgiving dinner? Please select all that apply. - Green beans/green bean casserole'\n",
      " 'Which of these side dishes aretypically served at your Thanksgiving dinner? Please select all that apply. - Macaroni and cheese'\n",
      " 'Which of these side dishes aretypically served at your Thanksgiving dinner? Please select all that apply. - Mashed potatoes'\n",
      " 'Which of these side dishes aretypically served at your Thanksgiving dinner? Please select all that apply. - Rolls/biscuits'\n",
      " 'Which of these side dishes aretypically served at your Thanksgiving dinner? Please select all that apply. - Squash'\n",
      " 'Which of these side dishes aretypically served at your Thanksgiving dinner? Please select all that apply. - Vegetable salad'\n",
      " 'Which of these side dishes aretypically served at your Thanksgiving dinner? Please select all that apply. - Yams/sweet potato casserole'\n",
      " 'Which of these side dishes aretypically served at your Thanksgiving dinner? Please select all that apply. - Other (please specify)'\n",
      " 'Which of these side dishes aretypically served at your Thanksgiving dinner? Please select all that apply. - Other (please specify).1'\n",
      " 'Which type of pie is typically served at your Thanksgiving dinner? Please select all that apply. - Apple'\n",
      " 'Which type of pie is typically served at your Thanksgiving dinner? Please select all that apply. - Buttermilk'\n",
      " 'Which type of pie is typically served at your Thanksgiving dinner? Please select all that apply. - Cherry'\n",
      " 'Which type of pie is typically served at your Thanksgiving dinner? Please select all that apply. - Chocolate'\n",
      " 'Which type of pie is typically served at your Thanksgiving dinner? Please select all that apply. - Coconut cream'\n",
      " 'Which type of pie is typically served at your Thanksgiving dinner? Please select all that apply. - Key lime'\n",
      " 'Which type of pie is typically served at your Thanksgiving dinner? Please select all that apply. - Peach'\n",
      " 'Which type of pie is typically served at your Thanksgiving dinner? Please select all that apply. - Pecan'\n",
      " 'Which type of pie is typically served at your Thanksgiving dinner? Please select all that apply. - Pumpkin'\n",
      " 'Which type of pie is typically served at your Thanksgiving dinner? Please select all that apply. - Sweet Potato'\n",
      " 'Which type of pie is typically served at your Thanksgiving dinner? Please select all that apply. - None'\n",
      " 'Which type of pie is typically served at your Thanksgiving dinner? Please select all that apply. - Other (please specify)'\n",
      " 'Which type of pie is typically served at your Thanksgiving dinner? Please select all that apply. - Other (please specify).1'\n",
      " 'Which of these desserts do you typically have at Thanksgiving dinner? Please select all that apply.   - Apple cobbler'\n",
      " 'Which of these desserts do you typically have at Thanksgiving dinner? Please select all that apply.   - Blondies'\n",
      " 'Which of these desserts do you typically have at Thanksgiving dinner? Please select all that apply.   - Brownies'\n",
      " 'Which of these desserts do you typically have at Thanksgiving dinner? Please select all that apply.   - Carrot cake'\n",
      " 'Which of these desserts do you typically have at Thanksgiving dinner? Please select all that apply.   - Cheesecake'\n",
      " 'Which of these desserts do you typically have at Thanksgiving dinner? Please select all that apply.   - Cookies'\n",
      " 'Which of these desserts do you typically have at Thanksgiving dinner? Please select all that apply.   - Fudge'\n",
      " 'Which of these desserts do you typically have at Thanksgiving dinner? Please select all that apply.   - Ice cream'\n",
      " 'Which of these desserts do you typically have at Thanksgiving dinner? Please select all that apply.   - Peach cobbler'\n",
      " 'Which of these desserts do you typically have at Thanksgiving dinner? Please select all that apply.   - None'\n",
      " 'Which of these desserts do you typically have at Thanksgiving dinner? Please select all that apply.   - Other (please specify)'\n",
      " 'Which of these desserts do you typically have at Thanksgiving dinner? Please select all that apply.   - Other (please specify).1'\n",
      " 'Do you typically pray before or after the Thanksgiving meal?'\n",
      " 'How far will you travel for Thanksgiving?'\n",
      " \"Will you watch any of the following programs on Thanksgiving? Please select all that apply. - Macy's Parade\"\n",
      " 'What\\'s the age cutoff at your \"kids\\' table\" at Thanksgiving?'\n",
      " 'Have you ever tried to meet up with hometown friends on Thanksgiving night?'\n",
      " 'Have you ever attended a \"Friendsgiving?\"'\n",
      " 'Will you shop any Black Friday sales on Thanksgiving Day?'\n",
      " 'Do you work in retail?'\n",
      " 'Will you employer make you work on Black Friday?'\n",
      " 'How would you describe where you live?' 'Age' 'What is your gender?'\n",
      " 'How much total combined money did all members of your HOUSEHOLD earn last year?'\n",
      " 'US Region']\n"
     ]
    }
   ],
   "source": [
    "print(data.columns.values)"
   ]
  },
  {
   "cell_type": "code",
   "execution_count": 14,
   "metadata": {
    "collapsed": false
   },
   "outputs": [
    {
     "name": "stdout",
     "output_type": "stream",
     "text": [
      "<bound method Series.value_counts of 0       Yes\n",
      "1       Yes\n",
      "2       Yes\n",
      "3       Yes\n",
      "4       Yes\n",
      "5       Yes\n",
      "6       Yes\n",
      "7       Yes\n",
      "8       Yes\n",
      "9       Yes\n",
      "10       No\n",
      "11      Yes\n",
      "12      Yes\n",
      "13      Yes\n",
      "14      Yes\n",
      "15      Yes\n",
      "16      Yes\n",
      "17      Yes\n",
      "18      Yes\n",
      "19      Yes\n",
      "20      Yes\n",
      "21      Yes\n",
      "22       No\n",
      "23      Yes\n",
      "24      Yes\n",
      "25      Yes\n",
      "26      Yes\n",
      "27      Yes\n",
      "28      Yes\n",
      "29      Yes\n",
      "       ... \n",
      "1028     No\n",
      "1029    Yes\n",
      "1030    Yes\n",
      "1031    Yes\n",
      "1032     No\n",
      "1033    Yes\n",
      "1034    Yes\n",
      "1035    Yes\n",
      "1036     No\n",
      "1037    Yes\n",
      "1038    Yes\n",
      "1039    Yes\n",
      "1040    Yes\n",
      "1041    Yes\n",
      "1042    Yes\n",
      "1043    Yes\n",
      "1044    Yes\n",
      "1045    Yes\n",
      "1046    Yes\n",
      "1047    Yes\n",
      "1048    Yes\n",
      "1049    Yes\n",
      "1050    Yes\n",
      "1051    Yes\n",
      "1052     No\n",
      "1053    Yes\n",
      "1054    Yes\n",
      "1055    Yes\n",
      "1056    Yes\n",
      "1057    Yes\n",
      "Name: Do you celebrate Thanksgiving?, dtype: object>\n"
     ]
    }
   ],
   "source": [
    "celebrate = data[\"Do you celebrate Thanksgiving?\"]\n",
    "celebrate_yes_no = celebrate.value_counts\n",
    "print(celebrate_yes_no)"
   ]
  },
  {
   "cell_type": "code",
   "execution_count": 18,
   "metadata": {
    "collapsed": false
   },
   "outputs": [],
   "source": [
    "criteria_one = celebrate == 'Yes'"
   ]
  },
  {
   "cell_type": "code",
   "execution_count": 19,
   "metadata": {
    "collapsed": false
   },
   "outputs": [
    {
     "name": "stdout",
     "output_type": "stream",
     "text": [
      "0       Yes\n",
      "1       Yes\n",
      "2       Yes\n",
      "3       Yes\n",
      "4       Yes\n",
      "5       Yes\n",
      "6       Yes\n",
      "7       Yes\n",
      "8       Yes\n",
      "9       Yes\n",
      "11      Yes\n",
      "12      Yes\n",
      "13      Yes\n",
      "14      Yes\n",
      "15      Yes\n",
      "16      Yes\n",
      "17      Yes\n",
      "18      Yes\n",
      "19      Yes\n",
      "20      Yes\n",
      "21      Yes\n",
      "23      Yes\n",
      "24      Yes\n",
      "25      Yes\n",
      "26      Yes\n",
      "27      Yes\n",
      "28      Yes\n",
      "29      Yes\n",
      "30      Yes\n",
      "32      Yes\n",
      "       ... \n",
      "1024    Yes\n",
      "1025    Yes\n",
      "1026    Yes\n",
      "1027    Yes\n",
      "1029    Yes\n",
      "1030    Yes\n",
      "1031    Yes\n",
      "1033    Yes\n",
      "1034    Yes\n",
      "1035    Yes\n",
      "1037    Yes\n",
      "1038    Yes\n",
      "1039    Yes\n",
      "1040    Yes\n",
      "1041    Yes\n",
      "1042    Yes\n",
      "1043    Yes\n",
      "1044    Yes\n",
      "1045    Yes\n",
      "1046    Yes\n",
      "1047    Yes\n",
      "1048    Yes\n",
      "1049    Yes\n",
      "1050    Yes\n",
      "1051    Yes\n",
      "1053    Yes\n",
      "1054    Yes\n",
      "1055    Yes\n",
      "1056    Yes\n",
      "1057    Yes\n",
      "Name: Do you celebrate Thanksgiving?, dtype: object\n"
     ]
    }
   ],
   "source": [
    "print(celebrate[criteria_one])"
   ]
  },
  {
   "cell_type": "code",
   "execution_count": 22,
   "metadata": {
    "collapsed": false
   },
   "outputs": [
    {
     "name": "stdout",
     "output_type": "stream",
     "text": [
      "<bound method Series.value_counts of 0                       Turkey\n",
      "1                       Turkey\n",
      "2                       Turkey\n",
      "3                       Turkey\n",
      "4                     Tofurkey\n",
      "5                       Turkey\n",
      "6                       Turkey\n",
      "7                       Turkey\n",
      "8                       Turkey\n",
      "9       Other (please specify)\n",
      "10                         NaN\n",
      "11                      Turkey\n",
      "12                    Ham/Pork\n",
      "13                      Turkey\n",
      "14                      Turkey\n",
      "15                      Turkey\n",
      "16                   Turducken\n",
      "17                      Turkey\n",
      "18                      Turkey\n",
      "19                      Turkey\n",
      "20                      Turkey\n",
      "21                      Turkey\n",
      "22                         NaN\n",
      "23                      Turkey\n",
      "24                      Turkey\n",
      "25                      Turkey\n",
      "26                      Turkey\n",
      "27                      Turkey\n",
      "28      Other (please specify)\n",
      "29                      Turkey\n",
      "                 ...          \n",
      "1028                       NaN\n",
      "1029                    Turkey\n",
      "1030                    Turkey\n",
      "1031                  Ham/Pork\n",
      "1032                       NaN\n",
      "1033                    Turkey\n",
      "1034                    Turkey\n",
      "1035                    Turkey\n",
      "1036                       NaN\n",
      "1037    Other (please specify)\n",
      "1038                    Turkey\n",
      "1039                    Turkey\n",
      "1040                    Turkey\n",
      "1041                    Turkey\n",
      "1042                    Turkey\n",
      "1043                    Turkey\n",
      "1044                    Turkey\n",
      "1045                    Turkey\n",
      "1046                    Turkey\n",
      "1047                    Turkey\n",
      "1048                    Turkey\n",
      "1049                    Turkey\n",
      "1050                    Turkey\n",
      "1051                    Turkey\n",
      "1052                       NaN\n",
      "1053                    Turkey\n",
      "1054                    Turkey\n",
      "1055    Other (please specify)\n",
      "1056                    Turkey\n",
      "1057                    Turkey\n",
      "Name: What is typically the main dish at your Thanksgiving dinner?, dtype: object>\n"
     ]
    }
   ],
   "source": [
    "main_dish = data[\"What is typically the main dish at your Thanksgiving dinner?\"]\n",
    "main_dish_cat = main_dish.value_counts\n",
    "print(main_dish_cat)"
   ]
  },
  {
   "cell_type": "code",
   "execution_count": 24,
   "metadata": {
    "collapsed": false
   },
   "outputs": [
    {
     "name": "stdout",
     "output_type": "stream",
     "text": [
      "4      Yes\n",
      "33     Yes\n",
      "69      No\n",
      "72      No\n",
      "77     Yes\n",
      "145    Yes\n",
      "175    Yes\n",
      "218     No\n",
      "243    Yes\n",
      "275     No\n",
      "393    Yes\n",
      "399    Yes\n",
      "571    Yes\n",
      "594    Yes\n",
      "628     No\n",
      "774     No\n",
      "820     No\n",
      "837    Yes\n",
      "860     No\n",
      "953    Yes\n",
      "Name: Do you typically have gravy?, dtype: object\n"
     ]
    }
   ],
   "source": [
    "filter = main_dish == \"Tofurkey\"\n",
    "dinner = data[\"Do you typically have gravy?\"][filter]\n",
    "print(dinner)"
   ]
  },
  {
   "cell_type": "code",
   "execution_count": 27,
   "metadata": {
    "collapsed": false
   },
   "outputs": [
    {
     "name": "stdout",
     "output_type": "stream",
     "text": [
      "<bound method Series.value_counts of 0       False\n",
      "1       False\n",
      "2       False\n",
      "3       False\n",
      "4       False\n",
      "5        True\n",
      "6       False\n",
      "7        True\n",
      "8       False\n",
      "9       False\n",
      "10       True\n",
      "11      False\n",
      "12      False\n",
      "13      False\n",
      "14      False\n",
      "15       True\n",
      "16      False\n",
      "17      False\n",
      "18      False\n",
      "19      False\n",
      "20      False\n",
      "21       True\n",
      "22       True\n",
      "23      False\n",
      "24      False\n",
      "25      False\n",
      "26      False\n",
      "27      False\n",
      "28      False\n",
      "29      False\n",
      "        ...  \n",
      "1028     True\n",
      "1029    False\n",
      "1030    False\n",
      "1031    False\n",
      "1032     True\n",
      "1033    False\n",
      "1034    False\n",
      "1035    False\n",
      "1036     True\n",
      "1037     True\n",
      "1038    False\n",
      "1039    False\n",
      "1040    False\n",
      "1041    False\n",
      "1042    False\n",
      "1043     True\n",
      "1044    False\n",
      "1045    False\n",
      "1046    False\n",
      "1047    False\n",
      "1048    False\n",
      "1049    False\n",
      "1050    False\n",
      "1051    False\n",
      "1052     True\n",
      "1053    False\n",
      "1054    False\n",
      "1055    False\n",
      "1056     True\n",
      "1057     True\n",
      "dtype: bool>\n"
     ]
    }
   ],
   "source": [
    "apple_isnull = pd.isnull(data[\"Which type of pie is typically served at your Thanksgiving dinner? Please select all that apply. - Apple\"])\n",
    "pumpkin_isnull = pd.isnull(data[\"Which type of pie is typically served at your Thanksgiving dinner? Please select all that apply. - Pumpkin\"])\n",
    "pecan_isnull = pd.isnull(data[\"Which type of pie is typically served at your Thanksgiving dinner? Please select all that apply. - Pecan\"])\n",
    "ate_pies = apple_isnull & pumpkin_isnull & pecan_isnull\n",
    "print(ate_pies.value_counts)"
   ]
  },
  {
   "cell_type": "code",
   "execution_count": 41,
   "metadata": {
    "collapsed": false
   },
   "outputs": [
    {
     "name": "stdout",
     "output_type": "stream",
     "text": [
      "count    1025.000000\n",
      "mean       39.383415\n",
      "std        15.398493\n",
      "min        18.000000\n",
      "25%        30.000000\n",
      "50%        45.000000\n",
      "75%        60.000000\n",
      "max        60.000000\n",
      "Name: Age, dtype: float64\n"
     ]
    }
   ],
   "source": [
    "def convert_to_int_age(age):\n",
    "    age_isnull = pd.isnull(age)\n",
    "    if(age_isnull):\n",
    "        return None\n",
    "    else:\n",
    "        age_list = age.split(\" \")\n",
    "        int_age = int(age_list[0].replace(\"+\", \"\"))\n",
    "        return int_age\n",
    "        \n",
    "data[\"int_age\"] = data['Age'].apply(convert_to_int_age)\n",
    "print(int_age.describe())\n"
   ]
  },
  {
   "cell_type": "code",
   "execution_count": null,
   "metadata": {
    "collapsed": false
   },
   "outputs": [
    {
     "name": "stdout",
     "output_type": "stream",
     "text": [
      "count       889.000000\n",
      "mean      74077.615298\n",
      "std       59360.742902\n",
      "min           0.000000\n",
      "25%       25000.000000\n",
      "50%       50000.000000\n",
      "75%      100000.000000\n",
      "max      200000.000000\n",
      "Name: How much total combined money did all members of your HOUSEHOLD earn last year?, dtype: float64\n"
     ]
    }
   ],
   "source": [
    "def convert_to_int_income(income):\n",
    "    income_isnull = pd.isnull(income)\n",
    "    if(income_isnull):\n",
    "        return None\n",
    "    else:\n",
    "        income = income.split(\" \")[0]\n",
    "        if(income == 'Prefer'):\n",
    "            return None\n",
    "        income_replace = income.replace(\"$\", \"\")\n",
    "        int_income = int(income_replace.replace(\",\", \"\"))\n",
    "        return int_income\n",
    "        \n",
    "data[\"int_income\"] = data['How much total combined money did all members of your HOUSEHOLD earn last year?'].apply(convert_to_int_income)\n",
    "print(int_income.describe())"
   ]
  },
  {
   "cell_type": "code",
   "execution_count": 44,
   "metadata": {
    "collapsed": false
   },
   "outputs": [
    {
     "name": "stdout",
     "output_type": "stream",
     "text": [
      "<bound method Series.value_counts of 0       Thanksgiving is local--it will take place in t...\n",
      "1       Thanksgiving is out of town but not too far--i...\n",
      "2       Thanksgiving is local--it will take place in t...\n",
      "4       Thanksgiving is out of town but not too far--i...\n",
      "5       Thanksgiving is happening at my home--I won't ...\n",
      "6       Thanksgiving is out of town but not too far--i...\n",
      "8       Thanksgiving is happening at my home--I won't ...\n",
      "9       Thanksgiving is happening at my home--I won't ...\n",
      "10                                                    NaN\n",
      "11      Thanksgiving is out of town but not too far--i...\n",
      "12      Thanksgiving is out of town but not too far--i...\n",
      "13      Thanksgiving is local--it will take place in t...\n",
      "14      Thanksgiving is local--it will take place in t...\n",
      "17      Thanksgiving is happening at my home--I won't ...\n",
      "18      Thanksgiving is out of town but not too far--i...\n",
      "19      Thanksgiving is local--it will take place in t...\n",
      "20      Thanksgiving is out of town and far away--I ha...\n",
      "21      Thanksgiving is happening at my home--I won't ...\n",
      "22                                                    NaN\n",
      "23      Thanksgiving is happening at my home--I won't ...\n",
      "24      Thanksgiving is out of town and far away--I ha...\n",
      "26      Thanksgiving is local--it will take place in t...\n",
      "27      Thanksgiving is local--it will take place in t...\n",
      "29      Thanksgiving is happening at my home--I won't ...\n",
      "30      Thanksgiving is local--it will take place in t...\n",
      "33      Thanksgiving is out of town but not too far--i...\n",
      "34      Thanksgiving is local--it will take place in t...\n",
      "35                                                    NaN\n",
      "36      Thanksgiving is out of town and far away--I ha...\n",
      "38      Thanksgiving is local--it will take place in t...\n",
      "                              ...                        \n",
      "1018    Thanksgiving is out of town but not too far--i...\n",
      "1019    Thanksgiving is local--it will take place in t...\n",
      "1022    Thanksgiving is happening at my home--I won't ...\n",
      "1024    Thanksgiving is happening at my home--I won't ...\n",
      "1025    Thanksgiving is out of town but not too far--i...\n",
      "1027    Thanksgiving is happening at my home--I won't ...\n",
      "1029    Thanksgiving is out of town but not too far--i...\n",
      "1030    Thanksgiving is happening at my home--I won't ...\n",
      "1031    Thanksgiving is local--it will take place in t...\n",
      "1033    Thanksgiving is local--it will take place in t...\n",
      "1035    Thanksgiving is happening at my home--I won't ...\n",
      "1036                                                  NaN\n",
      "1037    Thanksgiving is happening at my home--I won't ...\n",
      "1038    Thanksgiving is local--it will take place in t...\n",
      "1039    Thanksgiving is local--it will take place in t...\n",
      "1040    Thanksgiving is happening at my home--I won't ...\n",
      "1041    Thanksgiving is happening at my home--I won't ...\n",
      "1042    Thanksgiving is out of town but not too far--i...\n",
      "1043    Thanksgiving is local--it will take place in t...\n",
      "1044    Thanksgiving is happening at my home--I won't ...\n",
      "1045    Thanksgiving is out of town and far away--I ha...\n",
      "1046    Thanksgiving is happening at my home--I won't ...\n",
      "1047    Thanksgiving is happening at my home--I won't ...\n",
      "1048    Thanksgiving is happening at my home--I won't ...\n",
      "1050    Thanksgiving is happening at my home--I won't ...\n",
      "1051    Thanksgiving is out of town but not too far--i...\n",
      "1052                                                  NaN\n",
      "1053    Thanksgiving is local--it will take place in t...\n",
      "1054    Thanksgiving is local--it will take place in t...\n",
      "1055    Thanksgiving is out of town but not too far--i...\n",
      "Name: How far will you travel for Thanksgiving?, dtype: object>\n"
     ]
    }
   ],
   "source": [
    "less_income_rows = data[int_income < 150000]\n",
    "travel_distance = less_income_rows['How far will you travel for Thanksgiving?']\n",
    "print(travel_distance.value_counts)"
   ]
  },
  {
   "cell_type": "code",
   "execution_count": 46,
   "metadata": {
    "collapsed": false
   },
   "outputs": [
    {
     "name": "stdout",
     "output_type": "stream",
     "text": [
      "<bound method Series.value_counts of 3       Thanksgiving is local--it will take place in t...\n",
      "15      Thanksgiving is local--it will take place in t...\n",
      "16      Thanksgiving is local--it will take place in t...\n",
      "25      Thanksgiving is out of town but not too far--i...\n",
      "39      Thanksgiving is happening at my home--I won't ...\n",
      "40      Thanksgiving is out of town but not too far--i...\n",
      "52      Thanksgiving is happening at my home--I won't ...\n",
      "61      Thanksgiving is happening at my home--I won't ...\n",
      "62      Thanksgiving is local--it will take place in t...\n",
      "63                                                    NaN\n",
      "85      Thanksgiving is out of town and far away--I ha...\n",
      "120     Thanksgiving is happening at my home--I won't ...\n",
      "121     Thanksgiving is happening at my home--I won't ...\n",
      "152     Thanksgiving is local--it will take place in t...\n",
      "158     Thanksgiving is local--it will take place in t...\n",
      "178     Thanksgiving is happening at my home--I won't ...\n",
      "190     Thanksgiving is happening at my home--I won't ...\n",
      "202     Thanksgiving is out of town and far away--I ha...\n",
      "203     Thanksgiving is out of town but not too far--i...\n",
      "208     Thanksgiving is out of town and far away--I ha...\n",
      "218     Thanksgiving is local--it will take place in t...\n",
      "226     Thanksgiving is out of town and far away--I ha...\n",
      "231     Thanksgiving is local--it will take place in t...\n",
      "249     Thanksgiving is local--it will take place in t...\n",
      "252                                                   NaN\n",
      "261     Thanksgiving is happening at my home--I won't ...\n",
      "265     Thanksgiving is local--it will take place in t...\n",
      "277     Thanksgiving is local--it will take place in t...\n",
      "289     Thanksgiving is happening at my home--I won't ...\n",
      "297     Thanksgiving is local--it will take place in t...\n",
      "                              ...                        \n",
      "707     Thanksgiving is happening at my home--I won't ...\n",
      "709     Thanksgiving is local--it will take place in t...\n",
      "713                                                   NaN\n",
      "718                                                   NaN\n",
      "726     Thanksgiving is happening at my home--I won't ...\n",
      "732     Thanksgiving is out of town and far away--I ha...\n",
      "737     Thanksgiving is out of town and far away--I ha...\n",
      "755     Thanksgiving is out of town but not too far--i...\n",
      "759     Thanksgiving is happening at my home--I won't ...\n",
      "767     Thanksgiving is out of town but not too far--i...\n",
      "768     Thanksgiving is local--it will take place in t...\n",
      "787     Thanksgiving is happening at my home--I won't ...\n",
      "800     Thanksgiving is local--it will take place in t...\n",
      "806     Thanksgiving is happening at my home--I won't ...\n",
      "821     Thanksgiving is out of town but not too far--i...\n",
      "824     Thanksgiving is happening at my home--I won't ...\n",
      "831     Thanksgiving is out of town but not too far--i...\n",
      "872     Thanksgiving is local--it will take place in t...\n",
      "878     Thanksgiving is happening at my home--I won't ...\n",
      "896     Thanksgiving is happening at my home--I won't ...\n",
      "903     Thanksgiving is happening at my home--I won't ...\n",
      "918     Thanksgiving is out of town and far away--I ha...\n",
      "937     Thanksgiving is happening at my home--I won't ...\n",
      "940     Thanksgiving is happening at my home--I won't ...\n",
      "963     Thanksgiving is local--it will take place in t...\n",
      "982     Thanksgiving is happening at my home--I won't ...\n",
      "983     Thanksgiving is out of town but not too far--i...\n",
      "993     Thanksgiving is happening at my home--I won't ...\n",
      "1015    Thanksgiving is local--it will take place in t...\n",
      "1026    Thanksgiving is local--it will take place in t...\n",
      "Name: How far will you travel for Thanksgiving?, dtype: object>\n"
     ]
    }
   ],
   "source": [
    "data[data[\"int_income\"] < 150000][\"How far will you travel for Thanksgiving?\"].value_counts()"
   ]
  },
  {
   "cell_type": "code",
   "execution_count": null,
   "metadata": {
    "collapsed": true
   },
   "outputs": [],
   "source": []
  }
 ],
 "metadata": {
  "kernelspec": {
   "display_name": "Python 3",
   "language": "python",
   "name": "python3"
  },
  "language_info": {
   "codemirror_mode": {
    "name": "ipython",
    "version": 3
   },
   "file_extension": ".py",
   "mimetype": "text/x-python",
   "name": "python",
   "nbconvert_exporter": "python",
   "pygments_lexer": "ipython3",
   "version": "3.4.3"
  }
 },
 "nbformat": 4,
 "nbformat_minor": 0
}
